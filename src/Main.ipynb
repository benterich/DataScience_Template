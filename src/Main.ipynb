{
 "cells": [
  {
   "cell_type": "code",
   "execution_count": 1,
   "metadata": {},
   "outputs": [
    {
     "name": "stdout",
     "output_type": "stream",
     "text": [
      " ### test init### \n",
      " ### test ### \n",
      "c:\\Users\\gottk\\OneDrive\\GITHUB\\calma-esse-heat-stress-internal\\Esse\\src\n",
      " ### test 2### \n",
      "{'test2': ['testxxx'],\n",
      " 'utilities': ['folder_variable_setup',\n",
      "               'pprint',\n",
      "               'print_functions_folder',\n",
      "               'test1']}\n"
     ]
    }
   ],
   "source": [
    "from all_imports import *\n",
    "\n",
    "import _modules\n",
    "\n",
    "\n",
    "_modules.test1()\n",
    "_modules.testxxx()\n",
    "\n",
    "_modules.print_functions_folder(modules_folder='_modules') #ignore_files=['__init__.py']\n",
    "\n"
   ]
  },
  {
   "cell_type": "code",
   "execution_count": 2,
   "metadata": {},
   "outputs": [
    {
     "name": "stdout",
     "output_type": "stream",
     "text": [
      "2024-02-10_1730\n",
      "['c:\\\\Users\\\\gottk\\\\OneDrive\\\\GITHUB\\\\calma-esse-heat-stress-internal\\\\Esse\\\\src',\n",
      " 'c:\\\\Users\\\\gottk\\\\OneDrive\\\\GITHUB\\\\calma-esse-heat-stress-internal\\\\Esse\\\\src\\\\data/raw',\n",
      " 'c:\\\\Users\\\\gottk\\\\OneDrive\\\\GITHUB\\\\calma-esse-heat-stress-internal\\\\Esse\\\\src\\\\data/processed',\n",
      " 'c:\\\\Users\\\\gottk\\\\OneDrive\\\\GITHUB\\\\calma-esse-heat-stress-internal\\\\Esse\\\\src\\\\report',\n",
      " '2024-02-10_1730']\n",
      "<class 'str'>\n"
     ]
    }
   ],
   "source": [
    "### Settings ###\n",
    "mode_debugging = True\n",
    "\n",
    "(\n",
    "    directory_path,\n",
    "    directory_data_raw_path,\n",
    "    directory_data_processed_path,\n",
    "    directory_report_path,\n",
    "    identifier\n",
    ") = _modules.folder_variable_setup()\n",
    "\n",
    "pprint([directory_path, directory_data_raw_path, directory_data_processed_path, directory_report_path, identifier])\n",
    "\n",
    "print(type(directory_path))"
   ]
  },
  {
   "cell_type": "code",
   "execution_count": null,
   "metadata": {},
   "outputs": [],
   "source": []
  },
  {
   "cell_type": "markdown",
   "metadata": {},
   "source": []
  }
 ],
 "metadata": {
  "kernelspec": {
   "display_name": "Python 3",
   "language": "python",
   "name": "python3"
  },
  "language_info": {
   "codemirror_mode": {
    "name": "ipython",
    "version": 3
   },
   "file_extension": ".py",
   "mimetype": "text/x-python",
   "name": "python",
   "nbconvert_exporter": "python",
   "pygments_lexer": "ipython3",
   "version": "3.11.8"
  }
 },
 "nbformat": 4,
 "nbformat_minor": 2
}
